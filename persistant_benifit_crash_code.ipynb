{
 "cells": [
  {
   "cell_type": "code",
   "execution_count": 23,
   "id": "7f7f9cac",
   "metadata": {},
   "outputs": [],
   "source": [
    "from langgraph.graph import StateGraph, START, END\n",
    "from langgraph.checkpoint.memory import InMemorySaver\n",
    "from typing import TypedDict\n",
    "import time"
   ]
  },
  {
   "cell_type": "code",
   "execution_count": 24,
   "id": "8db023fb",
   "metadata": {},
   "outputs": [],
   "source": [
    "class crashstate(TypedDict):\n",
    "    input: str\n",
    "    step1: str\n",
    "    step2: str\n",
    "    step3: str"
   ]
  },
  {
   "cell_type": "code",
   "execution_count": 25,
   "id": "47744651",
   "metadata": {},
   "outputs": [],
   "source": [
    "def step_1(state: crashstate)->crashstate:\n",
    "    print(\"step 1 executed\")\n",
    "    return {\"step1\": \"done\", \"input\":state[\"input\"]}"
   ]
  },
  {
   "cell_type": "code",
   "execution_count": 26,
   "id": "b96593ad",
   "metadata": {},
   "outputs": [],
   "source": [
    "def step_2(state: crashstate)->crashstate:\n",
    "    print(\"step 2 hangging... now manually interrupt from the notebook toolbar (STOP button)\")\n",
    "    time.sleep(30)\n",
    "    return {\"step2\": \"done\"}"
   ]
  },
  {
   "cell_type": "code",
   "execution_count": 27,
   "id": "300eef44",
   "metadata": {},
   "outputs": [],
   "source": [
    "def step_3(state: crashstate)->crashstate:\n",
    "    print(\"step 3 executed\")\n",
    "    return {\"step3\":\"done\"}"
   ]
  },
  {
   "cell_type": "code",
   "execution_count": 28,
   "id": "62240fa5",
   "metadata": {},
   "outputs": [],
   "source": [
    "builder = StateGraph(crashstate)\n",
    "\n",
    "builder.add_node(\"step_1\", step_1)\n",
    "builder.add_node(\"step_2\", step_2)\n",
    "builder.add_node(\"step_3\", step_3)\n",
    "\n",
    "builder.add_edge(START, \"step_1\")\n",
    "builder.add_edge(\"step_1\", \"step_2\")\n",
    "builder.add_edge(\"step_2\", \"step_3\")\n",
    "builder.add_edge(\"step_3\", END)\n",
    "\n",
    "checkpointer = InMemorySaver()\n",
    "\n",
    "workflow = builder.compile(checkpointer=checkpointer)"
   ]
  },
  {
   "cell_type": "code",
   "execution_count": 29,
   "id": "4b81b0f1",
   "metadata": {},
   "outputs": [
    {
     "name": "stdout",
     "output_type": "stream",
     "text": [
      "Running graph: please manually interrupt during step 2\n",
      "step 1 executed\n",
      "step 2 hangging... now manually interrupt from the notebook toolbar (STOP button)\n",
      "kernel mannualy interrupted(crash simulated)\n"
     ]
    }
   ],
   "source": [
    "try:\n",
    "    print(\"Running graph: please manually interrupt during step 2\")\n",
    "    workflow.invoke({\"input\":\"start\"}, config={\"configurable\": {\"thread_id\": 'tread-1'}})\n",
    "except KeyboardInterrupt:\n",
    "    print(\"kernel mannualy interrupted(crash simulated)\")"
   ]
  },
  {
   "cell_type": "code",
   "execution_count": 30,
   "id": "a62f27e8",
   "metadata": {},
   "outputs": [
    {
     "data": {
      "text/plain": [
       "StateSnapshot(values={}, next=(), config={'configurable': {'thread_id': 'thread-1'}}, metadata=None, created_at=None, parent_config=None, tasks=(), interrupts=())"
      ]
     },
     "execution_count": 30,
     "metadata": {},
     "output_type": "execute_result"
    }
   ],
   "source": [
    "workflow.get_state({\"configurable\":{\"thread_id\": 'thread-1'}})"
   ]
  },
  {
   "cell_type": "code",
   "execution_count": 31,
   "id": "0a6c85e5",
   "metadata": {},
   "outputs": [
    {
     "data": {
      "text/plain": [
       "[]"
      ]
     },
     "execution_count": 31,
     "metadata": {},
     "output_type": "execute_result"
    }
   ],
   "source": [
    "list(workflow.get_state_history({\"configurable\":{\"thread_id\": 'thread-1'}}))"
   ]
  },
  {
   "cell_type": "code",
   "execution_count": null,
   "id": "a28e682d",
   "metadata": {},
   "outputs": [],
   "source": [
    "final_state= workflow.invoke(None, config={\"configurable\": {\"thread_id\": 'thread-1'}})\n",
    "print(\"final state\", final_state)"
   ]
  },
  {
   "cell_type": "code",
   "execution_count": null,
   "id": "cdb5590c",
   "metadata": {},
   "outputs": [],
   "source": []
  }
 ],
 "metadata": {
  "kernelspec": {
   "display_name": "langgggtest",
   "language": "python",
   "name": "python3"
  },
  "language_info": {
   "codemirror_mode": {
    "name": "ipython",
    "version": 3
   },
   "file_extension": ".py",
   "mimetype": "text/x-python",
   "name": "python",
   "nbconvert_exporter": "python",
   "pygments_lexer": "ipython3",
   "version": "3.11.13"
  }
 },
 "nbformat": 4,
 "nbformat_minor": 5
}
