{
 "cells": [
  {
   "cell_type": "code",
   "execution_count": 1,
   "id": "523f6b0c",
   "metadata": {},
   "outputs": [],
   "source": [
    "from langgraph.graph import StateGraph, START, END\n",
    "from typing import TypedDict\n",
    "from langchain_groq import ChatGroq\n",
    "from langgraph.checkpoint.memory import InMemorySaver\n",
    "\n",
    "from dotenv import load_dotenv\n"
   ]
  },
  {
   "cell_type": "code",
   "execution_count": 20,
   "id": "b5e2896b",
   "metadata": {},
   "outputs": [],
   "source": [
    "load_dotenv()\n",
    "llm = ChatGroq(model=\"gemma2-9b-it\")\n"
   ]
  },
  {
   "cell_type": "code",
   "execution_count": 21,
   "id": "3dbb4e5e",
   "metadata": {},
   "outputs": [],
   "source": [
    "class JokeState(TypedDict):\n",
    "    topic: str\n",
    "    joke: str\n",
    "    explanation: str\n",
    "    "
   ]
  },
  {
   "cell_type": "code",
   "execution_count": 22,
   "id": "0fa69a68",
   "metadata": {},
   "outputs": [],
   "source": [
    "def generate_joke(state: JokeState):\n",
    "    prompt = f'generate a joke on the topic {state[\"topic\"]}'\n",
    "    response = llm.invoke(prompt).content\n",
    "    return {'joke': response}"
   ]
  },
  {
   "cell_type": "code",
   "execution_count": 23,
   "id": "7069c69a",
   "metadata": {},
   "outputs": [],
   "source": [
    "def generate_explanation(state: JokeState):\n",
    "    prompt = f'write an explanation for the joke - {state[\"joke\"]}'\n",
    "    response= llm.invoke(prompt).content\n",
    "    return {'explanation': response}"
   ]
  },
  {
   "cell_type": "code",
   "execution_count": 24,
   "id": "046f0b96",
   "metadata": {},
   "outputs": [],
   "source": [
    "graph = StateGraph(JokeState)\n",
    "\n",
    "graph.add_node(\"generate_joke\", generate_joke)\n",
    "graph.add_node(\"generate_explanation\", generate_explanation)\n",
    "\n",
    "graph.add_edge(START, \"generate_joke\")\n",
    "graph.add_edge(\"generate_joke\", \"generate_explanation\")\n",
    "graph.add_edge(\"generate_explanation\", END)\n",
    "\n",
    "checkpointer = InMemorySaver()\n",
    "workflow = graph.compile(checkpointer=checkpointer)\n",
    "\n"
   ]
  },
  {
   "cell_type": "code",
   "execution_count": 25,
   "id": "daf38999",
   "metadata": {},
   "outputs": [
    {
     "data": {
      "text/plain": [
       "{'topic': 'pizza',\n",
       " 'joke': 'Why did the pizza slice go to the doctor? \\n\\nBecause it was feeling cheesy! 🍕🤕  \\n',\n",
       " 'explanation': 'This joke plays on the double meaning of the word \"cheesy.\" \\n\\n* **Literal meaning:**  Pizza is made with cheese, so a pizza slice literally is cheesy.\\n\\n* **Figurative meaning:** \"Cheesy\" can also mean something corny, unoriginal, or embarrassing.\\n\\nThe joke sets up the expectation that the pizza slice is sick in a literal way.  However, the punchline reveals that it\\'s feeling \"cheesy\" in the figurative sense, making it a silly and unexpected twist.  \\n\\n'}"
      ]
     },
     "execution_count": 25,
     "metadata": {},
     "output_type": "execute_result"
    }
   ],
   "source": [
    "config = {\"configurable\": {\"thread_id\": \"1\"}}\n",
    "\n",
    "workflow.invoke({'topic':'pizza'}, config=config)"
   ]
  },
  {
   "cell_type": "code",
   "execution_count": 26,
   "id": "98c21314",
   "metadata": {},
   "outputs": [
    {
     "data": {
      "text/plain": [
       "StateSnapshot(values={'topic': 'pizza', 'joke': 'Why did the pizza slice go to the doctor? \\n\\nBecause it was feeling cheesy! 🍕🤕  \\n', 'explanation': 'This joke plays on the double meaning of the word \"cheesy.\" \\n\\n* **Literal meaning:**  Pizza is made with cheese, so a pizza slice literally is cheesy.\\n\\n* **Figurative meaning:** \"Cheesy\" can also mean something corny, unoriginal, or embarrassing.\\n\\nThe joke sets up the expectation that the pizza slice is sick in a literal way.  However, the punchline reveals that it\\'s feeling \"cheesy\" in the figurative sense, making it a silly and unexpected twist.  \\n\\n'}, next=(), config={'configurable': {'thread_id': '1', 'checkpoint_ns': '', 'checkpoint_id': '1f06dde1-5203-6ee2-8002-22cd307fd7d5'}}, metadata={'source': 'loop', 'step': 2, 'parents': {}}, created_at='2025-07-31T07:15:05.308745+00:00', parent_config={'configurable': {'thread_id': '1', 'checkpoint_ns': '', 'checkpoint_id': '1f06dde1-4ca2-6350-8001-436c5dfe8c99'}}, tasks=(), interrupts=())"
      ]
     },
     "execution_count": 26,
     "metadata": {},
     "output_type": "execute_result"
    }
   ],
   "source": [
    "workflow.get_state(config)"
   ]
  },
  {
   "cell_type": "code",
   "execution_count": 27,
   "id": "676c6244",
   "metadata": {},
   "outputs": [
    {
     "data": {
      "text/plain": [
       "[StateSnapshot(values={'topic': 'pizza', 'joke': 'Why did the pizza slice go to the doctor? \\n\\nBecause it was feeling cheesy! 🍕🤕  \\n', 'explanation': 'This joke plays on the double meaning of the word \"cheesy.\" \\n\\n* **Literal meaning:**  Pizza is made with cheese, so a pizza slice literally is cheesy.\\n\\n* **Figurative meaning:** \"Cheesy\" can also mean something corny, unoriginal, or embarrassing.\\n\\nThe joke sets up the expectation that the pizza slice is sick in a literal way.  However, the punchline reveals that it\\'s feeling \"cheesy\" in the figurative sense, making it a silly and unexpected twist.  \\n\\n'}, next=(), config={'configurable': {'thread_id': '1', 'checkpoint_ns': '', 'checkpoint_id': '1f06dde1-5203-6ee2-8002-22cd307fd7d5'}}, metadata={'source': 'loop', 'step': 2, 'parents': {}}, created_at='2025-07-31T07:15:05.308745+00:00', parent_config={'configurable': {'thread_id': '1', 'checkpoint_ns': '', 'checkpoint_id': '1f06dde1-4ca2-6350-8001-436c5dfe8c99'}}, tasks=(), interrupts=()),\n",
       " StateSnapshot(values={'topic': 'pizza', 'joke': 'Why did the pizza slice go to the doctor? \\n\\nBecause it was feeling cheesy! 🍕🤕  \\n'}, next=('generate_explanation',), config={'configurable': {'thread_id': '1', 'checkpoint_ns': '', 'checkpoint_id': '1f06dde1-4ca2-6350-8001-436c5dfe8c99'}}, metadata={'source': 'loop', 'step': 1, 'parents': {}}, created_at='2025-07-31T07:15:04.744430+00:00', parent_config={'configurable': {'thread_id': '1', 'checkpoint_ns': '', 'checkpoint_id': '1f06dde1-45a5-6b09-8000-a63432408e09'}}, tasks=(PregelTask(id='3ea6c7cd-f7ce-0cca-6b47-a2ae6924080a', name='generate_explanation', path=('__pregel_pull', 'generate_explanation'), error=None, interrupts=(), state=None, result={'explanation': 'This joke plays on the double meaning of the word \"cheesy.\" \\n\\n* **Literal meaning:**  Pizza is made with cheese, so a pizza slice literally is cheesy.\\n\\n* **Figurative meaning:** \"Cheesy\" can also mean something corny, unoriginal, or embarrassing.\\n\\nThe joke sets up the expectation that the pizza slice is sick in a literal way.  However, the punchline reveals that it\\'s feeling \"cheesy\" in the figurative sense, making it a silly and unexpected twist.  \\n\\n'}),), interrupts=()),\n",
       " StateSnapshot(values={'topic': 'pizza'}, next=('generate_joke',), config={'configurable': {'thread_id': '1', 'checkpoint_ns': '', 'checkpoint_id': '1f06dde1-45a5-6b09-8000-a63432408e09'}}, metadata={'source': 'loop', 'step': 0, 'parents': {}}, created_at='2025-07-31T07:15:04.011853+00:00', parent_config={'configurable': {'thread_id': '1', 'checkpoint_ns': '', 'checkpoint_id': '1f06dde1-45a3-63ef-bfff-5bb8e5a5fe5a'}}, tasks=(PregelTask(id='864b5d40-0915-ec13-8c0f-6a6f1ffdc9ba', name='generate_joke', path=('__pregel_pull', 'generate_joke'), error=None, interrupts=(), state=None, result={'joke': 'Why did the pizza slice go to the doctor? \\n\\nBecause it was feeling cheesy! 🍕🤕  \\n'}),), interrupts=()),\n",
       " StateSnapshot(values={}, next=('__start__',), config={'configurable': {'thread_id': '1', 'checkpoint_ns': '', 'checkpoint_id': '1f06dde1-45a3-63ef-bfff-5bb8e5a5fe5a'}}, metadata={'source': 'input', 'step': -1, 'parents': {}}, created_at='2025-07-31T07:15:04.010852+00:00', parent_config=None, tasks=(PregelTask(id='91606786-a674-f485-d6ee-fcd29fd51ed8', name='__start__', path=('__pregel_pull', '__start__'), error=None, interrupts=(), state=None, result={'topic': 'pizza'}),), interrupts=())]"
      ]
     },
     "execution_count": 27,
     "metadata": {},
     "output_type": "execute_result"
    }
   ],
   "source": [
    "list(workflow.get_state_history(config))"
   ]
  },
  {
   "cell_type": "code",
   "execution_count": null,
   "id": "0062d354",
   "metadata": {},
   "outputs": [
    {
     "data": {
      "text/plain": [
       "{'topic': 'donal trump',\n",
       " 'joke': \"Why did Donald Trump bring a ladder to the debate? \\n\\nBecause he heard the other candidates were going to be *raising* the bar! \\n\\n\\nLet me know if you'd like to hear another one! 😄 \\n\",\n",
       " 'explanation': 'This joke plays on a few things:\\n\\n* **Donald Trump\\'s height:** Trump is known for being shorter than many of his political opponents. The joke implies that he might need a ladder to reach the \"bar\" set by the other candidates.\\n* **\"Raising the bar\":** This idiom means to set a higher standard or expectation. The joke humorously twists this meaning to suggest that Trump is literally bringing a ladder because he expects the other candidates to be physically raising the bar during the debate.\\n* **Political satire:** The joke also subtly pokes fun at the nature of political debates, where candidates often try to outdo each other with increasingly ambitious promises and criticisms.\\n\\n\\nLet me know if you\\'d like to hear another joke! 😄 \\n\\n'}"
      ]
     },
     "execution_count": 31,
     "metadata": {},
     "output_type": "execute_result"
    }
   ],
   "source": [
    "config2 = {\"configurable\": {\"thread_id\": \"2\"}}\n",
    "\n",
    "workflow.invoke({'topic':'donald trump'}, config=config2)"
   ]
  },
  {
   "cell_type": "code",
   "execution_count": 32,
   "id": "36c25a4c",
   "metadata": {},
   "outputs": [
    {
     "data": {
      "text/plain": [
       "<generator object Pregel.get_state_history at 0x0000026FB3C331C0>"
      ]
     },
     "execution_count": 32,
     "metadata": {},
     "output_type": "execute_result"
    }
   ],
   "source": [
    "workflow.get_state_history(config2)"
   ]
  },
  {
   "cell_type": "code",
   "execution_count": 33,
   "id": "37cb631b",
   "metadata": {},
   "outputs": [
    {
     "data": {
      "text/plain": [
       "<generator object Pregel.get_state_history at 0x0000026FB3C33320>"
      ]
     },
     "execution_count": 33,
     "metadata": {},
     "output_type": "execute_result"
    }
   ],
   "source": [
    "workflow.get_state_history(config)"
   ]
  },
  {
   "cell_type": "code",
   "execution_count": null,
   "id": "afe3617b",
   "metadata": {},
   "outputs": [],
   "source": []
  }
 ],
 "metadata": {
  "kernelspec": {
   "display_name": "langgggtest",
   "language": "python",
   "name": "python3"
  },
  "language_info": {
   "codemirror_mode": {
    "name": "ipython",
    "version": 3
   },
   "file_extension": ".py",
   "mimetype": "text/x-python",
   "name": "python",
   "nbconvert_exporter": "python",
   "pygments_lexer": "ipython3",
   "version": "3.11.13"
  }
 },
 "nbformat": 4,
 "nbformat_minor": 5
}
